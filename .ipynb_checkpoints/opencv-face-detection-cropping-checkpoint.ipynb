{
 "cells": [
  {
   "cell_type": "code",
   "execution_count": 1,
   "metadata": {},
   "outputs": [],
   "source": [
    "# import modules needed\n",
    "import cv2\n",
    "import numpy as np\n",
    "from matplotlib import pyplot as plt\n",
    "import glob"
   ]
  },
  {
   "cell_type": "code",
   "execution_count": 9,
   "metadata": {},
   "outputs": [
    {
     "name": "stdout",
     "output_type": "stream",
     "text": [
      "[]\n"
     ]
    }
   ],
   "source": [
    "txtfiles = [] \n",
    "for file in glob.glob(\"*.jpg\"):\n",
    "    txtfiles.append(file)\n",
    "\n",
    "print(txtfiles)"
   ]
  },
  {
   "cell_type": "code",
   "execution_count": null,
   "metadata": {},
   "outputs": [],
   "source": [
    "for ix in txtfiles:\n",
    "    img = cv2.imread(ix,cv2.IMREAD_COLOR)\n",
    "    imgtest1 = img.copy()\n",
    "    imgtest = cv2.cvtColor(imgtest1, cv2.COLOR_BGR2GRAY)\n",
    "\n",
    "    facecascade = cv2.CascadeClassifier('/⁨anaconda3⁩/⁨lib⁩/⁨python3.7⁩/⁨site-packages⁩/⁨cv2⁩/⁨data⁩/haarcascade_frontalface_default.xml')\n",
    "    \n",
    "    faces = facecascade.detectMultiScale(imgtest, scaleFactor=1.2, minNeighbors=5)\n",
    " \n",
    "    print(’Total number of Faces found’,len(faces))\n",
    "    \n",
    "    for (x, y, w, h) in faces:\n",
    "        face_detect = cv2.rectangle(imgtest, (x, y), (x+w, y+h), (255, 0, 255), 2)\n",
    "        roi_gray = imgtest[y:y+h, x:x+w]\n",
    "        roi_color = imgtest[y:y+h, x:x+w]\n",
    "        plt.imshow(face_detect)"
   ]
  }
 ],
 "metadata": {
  "kernelspec": {
   "display_name": "Python 3",
   "language": "python",
   "name": "python3"
  },
  "language_info": {
   "codemirror_mode": {
    "name": "ipython",
    "version": 3
   },
   "file_extension": ".py",
   "mimetype": "text/x-python",
   "name": "python",
   "nbconvert_exporter": "python",
   "pygments_lexer": "ipython3",
   "version": "3.7.1"
  }
 },
 "nbformat": 4,
 "nbformat_minor": 2
}
