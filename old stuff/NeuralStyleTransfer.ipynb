{
  "nbformat": 4,
  "nbformat_minor": 0,
  "metadata": {
    "colab": {
      "name": "NeuralStyleTransfer.ipynb",
      "version": "0.3.2",
      "provenance": [],
      "collapsed_sections": [],
      "toc_visible": true,
      "include_colab_link": true
    },
    "kernelspec": {
      "display_name": "Python 3",
      "language": "python",
      "name": "python3"
    },
    "accelerator": "GPU"
  },
  "cells": [
    {
      "cell_type": "markdown",
      "metadata": {
        "id": "view-in-github",
        "colab_type": "text"
      },
      "source": [
        "<a href=\"https://colab.research.google.com/github/khardcastle/face-in-art/blob/master/NeuralStyleTransfer.ipynb\" target=\"_parent\"><img src=\"https://colab.research.google.com/assets/colab-badge.svg\" alt=\"Open In Colab\"/></a>"
      ]
    },
    {
      "metadata": {
        "colab_type": "code",
        "id": "RmbqrckuWHVb",
        "outputId": "d3fc193c-7620-4627-e330-90e68568f922",
        "colab": {
          "base_uri": "https://localhost:8080/",
          "height": 109
        }
      },
      "cell_type": "code",
      "source": [
        "!git clone https://github.com/titu1994/Neural-Style-Transfer.git"
      ],
      "execution_count": 0,
      "outputs": [
        {
          "output_type": "stream",
          "text": [
            "Cloning into 'Neural-Style-Transfer'...\n",
            "remote: Enumerating objects: 1332, done.\u001b[K\n",
            "remote: Total 1332 (delta 0), reused 0 (delta 0), pack-reused 1332\u001b[K\n",
            "Receiving objects: 100% (1332/1332), 66.55 MiB | 32.42 MiB/s, done.\n",
            "Resolving deltas: 100% (784/784), done.\n"
          ],
          "name": "stdout"
        }
      ]
    },
    {
      "metadata": {
        "colab_type": "code",
        "id": "YVnya74IXEPS",
        "colab": {}
      },
      "cell_type": "code",
      "source": [
        "dir_path = \"Neural-Style-Transfer\""
      ],
      "execution_count": 0,
      "outputs": []
    },
    {
      "metadata": {
        "colab_type": "text",
        "id": "I0BvhE2JeJsP"
      },
      "cell_type": "markdown",
      "source": [
        "# Network Type\n",
        "\n",
        "Choose the network type below : \n",
        "\n",
        "- \"Network\" for the original style transfer\n",
        "- \"INetwork\" for the improved style transfer (default)"
      ]
    },
    {
      "metadata": {
        "colab_type": "code",
        "id": "EY7CIGK_eaR6",
        "colab": {}
      },
      "cell_type": "code",
      "source": [
        "NETWORK = 'INetwork' + '.py'"
      ],
      "execution_count": 0,
      "outputs": []
    },
    {
      "metadata": {
        "colab_type": "code",
        "id": "JHtYWZSDZOG8",
        "outputId": "22f07002-c6b5-4a92-fa93-fd00edfeb6ed",
        "colab": {
          "base_uri": "https://localhost:8080/",
          "height": 1192
        }
      },
      "cell_type": "code",
      "source": [
        "# List all the arguments that can be supplied to Network.py\n",
        "!python {dir_path}/{NETWORK} -h"
      ],
      "execution_count": 0,
      "outputs": [
        {
          "output_type": "stream",
          "text": [
            "Using TensorFlow backend.\n",
            "usage: INetwork.py [-h] [--style_masks STYLE_MASKS [STYLE_MASKS ...]]\n",
            "                   [--content_mask CONTENT_MASK] [--color_mask COLOR_MASK]\n",
            "                   [--image_size IMG_SIZE] [--content_weight CONTENT_WEIGHT]\n",
            "                   [--style_weight STYLE_WEIGHT [STYLE_WEIGHT ...]]\n",
            "                   [--style_scale STYLE_SCALE]\n",
            "                   [--total_variation_weight TV_WEIGHT] [--num_iter NUM_ITER]\n",
            "                   [--model MODEL] [--content_loss_type CONTENT_LOSS_TYPE]\n",
            "                   [--rescale_image RESCALE_IMAGE]\n",
            "                   [--rescale_method RESCALE_METHOD]\n",
            "                   [--maintain_aspect_ratio MAINTAIN_ASPECT_RATIO]\n",
            "                   [--content_layer CONTENT_LAYER] [--init_image INIT_IMAGE]\n",
            "                   [--pool_type POOL] [--preserve_color COLOR]\n",
            "                   [--min_improvement MIN_IMPROVEMENT]\n",
            "                   base ref [ref ...] res_prefix\n",
            "\n",
            "Neural style transfer with Keras.\n",
            "\n",
            "positional arguments:\n",
            "  base                  Path to the image to transform.\n",
            "  ref                   Path to the style reference image.\n",
            "  res_prefix            Prefix for the saved results.\n",
            "\n",
            "optional arguments:\n",
            "  -h, --help            show this help message and exit\n",
            "  --style_masks STYLE_MASKS [STYLE_MASKS ...]\n",
            "                        Masks for style images\n",
            "  --content_mask CONTENT_MASK\n",
            "                        Masks for the content image\n",
            "  --color_mask COLOR_MASK\n",
            "                        Mask for color preservation\n",
            "  --image_size IMG_SIZE\n",
            "                        Minimum image size\n",
            "  --content_weight CONTENT_WEIGHT\n",
            "                        Weight of content\n",
            "  --style_weight STYLE_WEIGHT [STYLE_WEIGHT ...]\n",
            "                        Weight of style, can be multiple for multiple styles\n",
            "  --style_scale STYLE_SCALE\n",
            "                        Scale the weighing of the style\n",
            "  --total_variation_weight TV_WEIGHT\n",
            "                        Total Variation weight\n",
            "  --num_iter NUM_ITER   Number of iterations\n",
            "  --model MODEL         Choices are 'vgg16' and 'vgg19'\n",
            "  --content_loss_type CONTENT_LOSS_TYPE\n",
            "                        Can be one of 0, 1 or 2. Readme contains the required\n",
            "                        information of each mode.\n",
            "  --rescale_image RESCALE_IMAGE\n",
            "                        Rescale image after execution to original dimentions\n",
            "  --rescale_method RESCALE_METHOD\n",
            "                        Rescale image algorithm\n",
            "  --maintain_aspect_ratio MAINTAIN_ASPECT_RATIO\n",
            "                        Maintain aspect ratio of loaded images\n",
            "  --content_layer CONTENT_LAYER\n",
            "                        Content layer used for content loss.\n",
            "  --init_image INIT_IMAGE\n",
            "                        Initial image used to generate the final image.\n",
            "                        Options are 'content', 'noise', or 'gray'\n",
            "  --pool_type POOL      Pooling type. Can be \"ave\" for average pooling or\n",
            "                        \"max\" for max pooling\n",
            "  --preserve_color COLOR\n",
            "                        Preserve original color in image\n",
            "  --min_improvement MIN_IMPROVEMENT\n",
            "                        Defines minimum improvement required to continue\n",
            "                        script\n"
          ],
          "name": "stdout"
        }
      ]
    },
    {
      "metadata": {
        "colab_type": "text",
        "id": "0XPSxN9LX-qN"
      },
      "cell_type": "markdown",
      "source": [
        "# Network Parameters\n",
        "\n",
        "Here, we will setup all of the parameters for the `Network.py` script."
      ]
    },
    {
      "metadata": {
        "colab_type": "code",
        "id": "_ZsAC0CbXI5A",
        "colab": {}
      },
      "cell_type": "code",
      "source": [
        "# Image size\n",
        "IMAGE_SIZE = 500\n",
        "\n",
        "# Loss Weights\n",
        "CONTENT_WEIGHT = 0.025\n",
        "STYLE_WEIGHT = 1.0\n",
        "STYLE_SCALE = 1.0\n",
        "TOTAL_VARIATION_WEIGHT = 8.5e-5\n",
        "CONTENT_LOSS_TYPE = 0\n",
        "\n",
        "# Training arguments\n",
        "NUM_ITERATIONS = 10\n",
        "MODEL = 'vgg19'\n",
        "RESCALE_IMAGE = 'false'\n",
        "MAINTAIN_ASPECT_RATIO = 'false'  # Set to false if OOM occurs\n",
        "\n",
        "# Transfer Arguments\n",
        "CONTENT_LAYER = 'conv' + '5_2'  # only change the number 5_2 to something in a similar format\n",
        "INITIALIZATION_IMAGE = 'content'\n",
        "POOLING_TYPE = 'max'\n",
        "\n",
        "# Extra arguments\n",
        "PRESERVE_COLOR = 'false'\n",
        "MIN_IMPROVEMENT = 0.0\n"
      ],
      "execution_count": 0,
      "outputs": []
    },
    {
      "metadata": {
        "colab_type": "text",
        "id": "rcDzyweobSaL"
      },
      "cell_type": "markdown",
      "source": [
        "# Content Image\n",
        "\n",
        "Run the below cell to upload the Content Image. Make sure to select **just 1 image**"
      ]
    },
    {
      "metadata": {
        "colab_type": "code",
        "id": "TLwCzYQyawvJ",
        "outputId": "b2a048dd-55e8-4783-8db1-68ecc030f99d",
        "colab": {
          "resources": {
            "http://localhost:8080/nbextensions/google.colab/files.js": {
              "data": "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",
              "ok": true,
              "headers": [
                [
                  "content-type",
                  "application/javascript"
                ]
              ],
              "status": 200,
              "status_text": "OK"
            }
          },
          "base_uri": "https://localhost:8080/",
          "height": 39
        }
      },
      "cell_type": "code",
      "source": [
        "from google.colab import files\n",
        "\n",
        "content_img = files.upload()"
      ],
      "execution_count": 0,
      "outputs": [
        {
          "output_type": "display_data",
          "data": {
            "text/html": [
              "\n",
              "     <input type=\"file\" id=\"files-2ce3cc10-9d6c-44a9-a45f-d62a98fc07a8\" name=\"files[]\" multiple disabled />\n",
              "     <output id=\"result-2ce3cc10-9d6c-44a9-a45f-d62a98fc07a8\">\n",
              "      Upload widget is only available when the cell has been executed in the\n",
              "      current browser session. Please rerun this cell to enable.\n",
              "      </output>\n",
              "      <script src=\"/nbextensions/google.colab/files.js\"></script> "
            ],
            "text/plain": [
              "<IPython.core.display.HTML object>"
            ]
          },
          "metadata": {
            "tags": []
          }
        }
      ]
    },
    {
      "metadata": {
        "colab_type": "code",
        "id": "ZuP5s0CDbwAs",
        "outputId": "237d5f98-f95e-4668-a183-924698a26d5a",
        "colab": {
          "base_uri": "https://localhost:8080/",
          "height": 246
        }
      },
      "cell_type": "code",
      "source": [
        "import os\n",
        "\n",
        "CONTENT_IMAGE_FN = list(content_img)[0]\n",
        "CONTENT_IMAGE_FN_temp = CONTENT_IMAGE_FN.strip().replace(\" \", \"_\")\n",
        "\n",
        "if CONTENT_IMAGE_FN != CONTENT_IMAGE_FN_temp:\n",
        "  os.rename(CONTENT_IMAGE_FN, CONTENT_IMAGE_FN_temp)\n",
        "  CONTENT_IMAGE_FN = CONTENT_IMAGE_FN_temp\n",
        "  \n",
        "print(\"Content image filename :\", CONTENT_IMAGE_FN)"
      ],
      "execution_count": 0,
      "outputs": [
        {
          "output_type": "error",
          "ename": "IndexError",
          "evalue": "ignored",
          "traceback": [
            "\u001b[0;31m---------------------------------------------------------------------------\u001b[0m",
            "\u001b[0;31mIndexError\u001b[0m                                Traceback (most recent call last)",
            "\u001b[0;32m<ipython-input-7-99d718a15f4c>\u001b[0m in \u001b[0;36m<module>\u001b[0;34m()\u001b[0m\n\u001b[1;32m      1\u001b[0m \u001b[0;32mimport\u001b[0m \u001b[0mos\u001b[0m\u001b[0;34m\u001b[0m\u001b[0;34m\u001b[0m\u001b[0m\n\u001b[1;32m      2\u001b[0m \u001b[0;34m\u001b[0m\u001b[0m\n\u001b[0;32m----> 3\u001b[0;31m \u001b[0mCONTENT_IMAGE_FN\u001b[0m \u001b[0;34m=\u001b[0m \u001b[0mlist\u001b[0m\u001b[0;34m(\u001b[0m\u001b[0mcontent_img\u001b[0m\u001b[0;34m)\u001b[0m\u001b[0;34m[\u001b[0m\u001b[0;36m0\u001b[0m\u001b[0;34m]\u001b[0m\u001b[0;34m\u001b[0m\u001b[0;34m\u001b[0m\u001b[0m\n\u001b[0m\u001b[1;32m      4\u001b[0m \u001b[0mCONTENT_IMAGE_FN_temp\u001b[0m \u001b[0;34m=\u001b[0m \u001b[0mCONTENT_IMAGE_FN\u001b[0m\u001b[0;34m.\u001b[0m\u001b[0mstrip\u001b[0m\u001b[0;34m(\u001b[0m\u001b[0;34m)\u001b[0m\u001b[0;34m.\u001b[0m\u001b[0mreplace\u001b[0m\u001b[0;34m(\u001b[0m\u001b[0;34m\" \"\u001b[0m\u001b[0;34m,\u001b[0m \u001b[0;34m\"_\"\u001b[0m\u001b[0;34m)\u001b[0m\u001b[0;34m\u001b[0m\u001b[0;34m\u001b[0m\u001b[0m\n\u001b[1;32m      5\u001b[0m \u001b[0;34m\u001b[0m\u001b[0m\n",
            "\u001b[0;31mIndexError\u001b[0m: list index out of range"
          ]
        }
      ]
    },
    {
      "metadata": {
        "colab_type": "code",
        "id": "pEvJHwxCbLO6",
        "colab": {}
      },
      "cell_type": "code",
      "source": [
        "%matplotlib inline\n",
        "import matplotlib.pyplot as plt\n",
        "\n",
        "fig = plt.figure(figsize=(10, 10))\n",
        "img = plt.imread(CONTENT_IMAGE_FN)\n",
        "plt.axis('off')\n",
        "plt.title('Content image')\n",
        "plt.imshow(img)"
      ],
      "execution_count": 0,
      "outputs": []
    },
    {
      "metadata": {
        "colab_type": "text",
        "id": "e7TeyuIMdDOq"
      },
      "cell_type": "markdown",
      "source": [
        "# Style Image\n",
        "\n",
        "Run the below cell to upload the Style Image. Make sure to select **just 1 image**"
      ]
    },
    {
      "metadata": {
        "colab_type": "code",
        "id": "KhYQLYGVdIVn",
        "colab": {}
      },
      "cell_type": "code",
      "source": [
        "style_img = files.upload()"
      ],
      "execution_count": 0,
      "outputs": []
    },
    {
      "metadata": {
        "colab_type": "code",
        "id": "7wPXs5uPdMOy",
        "colab": {}
      },
      "cell_type": "code",
      "source": [
        "STYLE_IMAGE_FN = list(style_img)[0]\n",
        "STYLE_IMAGE_FN_temp = STYLE_IMAGE_FN.strip().replace(\" \", \"_\")\n",
        "\n",
        "if STYLE_IMAGE_FN != STYLE_IMAGE_FN_temp:\n",
        "  os.rename(STYLE_IMAGE_FN, STYLE_IMAGE_FN_temp)\n",
        "  STYLE_IMAGE_FN = STYLE_IMAGE_FN_temp\n",
        "  \n",
        "print(\"Style image filename :\", STYLE_IMAGE_FN)"
      ],
      "execution_count": 0,
      "outputs": []
    },
    {
      "metadata": {
        "colab_type": "code",
        "id": "XW7TirxZdYcN",
        "colab": {}
      },
      "cell_type": "code",
      "source": [
        "fig = plt.figure(figsize=(10, 10))\n",
        "img = plt.imread(STYLE_IMAGE_FN)\n",
        "plt.axis('off')\n",
        "plt.title('Style image')\n",
        "plt.imshow(img)"
      ],
      "execution_count": 0,
      "outputs": []
    },
    {
      "metadata": {
        "colab_type": "text",
        "id": "LvIrGftvdo_f"
      },
      "cell_type": "markdown",
      "source": [
        "# Generate Image\n",
        "\n",
        "Run the below cells to generate the image"
      ]
    },
    {
      "metadata": {
        "colab_type": "code",
        "id": "zE4Iro7IlzEd",
        "colab": {}
      },
      "cell_type": "code",
      "source": [
        "import os\n",
        "\n",
        "RESULT_DIR = \"generated/\"\n",
        "RESULT_PREFIX = RESULT_DIR + \"gen\"\n",
        "FINAL_IMAGE_PATH = RESULT_PREFIX + \"_at_iteration_%d.png\" % (NUM_ITERATIONS)\n",
        "\n",
        "if not os.path.exists(RESULT_DIR):\n",
        "  os.makedirs(RESULT_DIR)"
      ],
      "execution_count": 0,
      "outputs": []
    },
    {
      "metadata": {
        "colab_type": "code",
        "id": "4eITTefRdfoY",
        "colab": {}
      },
      "cell_type": "code",
      "source": [
        "!python {dir_path}/{NETWORK} {CONTENT_IMAGE_FN} {STYLE_IMAGE_FN} {RESULT_PREFIX} \\\n",
        "  --image_size {IMAGE_SIZE} --content_weight {CONTENT_WEIGHT} --style_weight \\\n",
        "  {STYLE_WEIGHT} --style_scale {STYLE_SCALE} --total_variation_weight \\\n",
        "  {TOTAL_VARIATION_WEIGHT} --content_loss_type {CONTENT_LOSS_TYPE} --num_iter \\\n",
        "  1000 --model {MODEL} --rescale_image {RESCALE_IMAGE} \\\n",
        "  --maintain_aspect_ratio {MAINTAIN_ASPECT_RATIO} --content_layer {CONTENT_LAYER} \\\n",
        "  --init_image {INITIALIZATION_IMAGE} --pool_type {POOLING_TYPE} --preserve_color \\\n",
        "  {PRESERVE_COLOR} --min_improvement {MIN_IMPROVEMENT}"
      ],
      "execution_count": 0,
      "outputs": []
    },
    {
      "metadata": {
        "colab_type": "code",
        "id": "-A0zo0yEj-yq",
        "colab": {}
      },
      "cell_type": "code",
      "source": [
        "fig = plt.figure(figsize=(10, 10))\n",
        "img = plt.imread('generated/gen_at_iteration_95.png')\n",
        "plt.axis('off')\n",
        "plt.title('Generated image')\n",
        "plt.imshow(img)"
      ],
      "execution_count": 0,
      "outputs": []
    },
    {
      "metadata": {
        "colab_type": "text",
        "id": "xF1gX3lDoB8x"
      },
      "cell_type": "markdown",
      "source": [
        "# (Optional) Color Transfer\n",
        "\n",
        "If you wish for color transfer between the content image and the generated image, then run the next cell, else skip to \"Download Generated Image\" section"
      ]
    },
    {
      "metadata": {
        "colab_type": "code",
        "id": "oIQZf5zuoPA_",
        "colab": {}
      },
      "cell_type": "code",
      "source": [
        "COLOR_TRANSFER = 'color_transfer.py'\n",
        "COLOR_FINAL_IMAGE_PATH = FINAL_IMAGE_PATH[:-4] + '_%s_color.png'\n",
        "\n",
        "# Optional - Use Histogram matching (0 for no, 1 for yes)\n",
        "HISTOGRAM_MATCH = 0\n",
        "\n",
        "if HISTOGRAM_MATCH == 0:\n",
        "  COLOR_FINAL_IMAGE_PATH = COLOR_FINAL_IMAGE_PATH % ('original')\n",
        "else:\n",
        "  COLOR_FINAL_IMAGE_PATH = COLOR_FINAL_IMAGE_PATH % ('histogram')\n",
        "  \n",
        "\n",
        "!python {dir_path}/{COLOR_TRANSFER} {CONTENT_IMAGE_FN} {FINAL_IMAGE_PATH} --hist_match {HISTOGRAM_MATCH}\n"
      ],
      "execution_count": 0,
      "outputs": []
    },
    {
      "metadata": {
        "colab_type": "code",
        "id": "fjtHaqLFrCnP",
        "colab": {}
      },
      "cell_type": "code",
      "source": [
        "fig = plt.figure(figsize=(10, 10))\n",
        "img = plt.imread(COLOR_FINAL_IMAGE_PATH)\n",
        "plt.axis('off')\n",
        "plt.title('Color Transferred Generated image')\n",
        "plt.imshow(img)"
      ],
      "execution_count": 0,
      "outputs": []
    },
    {
      "metadata": {
        "colab_type": "text",
        "id": "EANrKuKGq1do"
      },
      "cell_type": "markdown",
      "source": [
        "# Download Color Transfered Image\n",
        "\n",
        "Run the following cell to download the color transferred result"
      ]
    },
    {
      "metadata": {
        "colab_type": "code",
        "id": "Fud9DuJfqV6B",
        "colab": {}
      },
      "cell_type": "code",
      "source": [
        "# download the color transfered image\n",
        "files.download(COLOR_FINAL_IMAGE_PATH)"
      ],
      "execution_count": 0,
      "outputs": []
    },
    {
      "metadata": {
        "colab_type": "text",
        "id": "lFYwblbPkE24"
      },
      "cell_type": "markdown",
      "source": [
        "# Download Generated Image\n",
        "\n",
        "Run the following cell to download the final result"
      ]
    },
    {
      "metadata": {
        "colab_type": "code",
        "id": "XANFbnpsfCj3",
        "colab": {}
      },
      "cell_type": "code",
      "source": [
        "files.download(FINAL_IMAGE_PATH)"
      ],
      "execution_count": 0,
      "outputs": []
    }
  ]
}