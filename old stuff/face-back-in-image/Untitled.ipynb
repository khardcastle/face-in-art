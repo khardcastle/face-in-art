{
 "cells": [
  {
   "cell_type": "code",
   "execution_count": null,
   "metadata": {},
   "outputs": [],
   "source": [
    "# This code will take the original image A, the bounding box of face A, and face C, and put face C where face A was\n",
    "import cv2\n",
    "import numpy as np\n",
    "from matplotlib import pyplot as plt\n",
    "import glob"
   ]
  },
  {
   "cell_type": "code",
   "execution_count": null,
   "metadata": {},
   "outputs": [],
   "source": [
    "def compute_face_crop(image_file):\n",
    "    \n",
    "    # This will take an image file, and will return information about where the face is, the image with the face bounding box, and the cropped image\n",
    "    \n",
    "    # read image, copy it so nothing funky happens, convert to grayscale for opencv\n",
    "    img = cv2.imread(image_file,cv2.IMREAD_COLOR)\n",
    "    imgtest1 = img.copy()\n",
    "    imgtest = cv2.cvtColor(imgtest1, cv2.COLOR_BGR2GRAY)\n",
    "\n",
    "    # load the face classifier\n",
    "    facecascade = cv2.CascadeClassifier(cv2.data.haarcascades + \"haarcascade_frontalface_default.xml\")\n",
    "    \n",
    "    # run the face classifier for the image. returns bounding box of the face\n",
    "    faces = facecascade.detectMultiScale(imgtest, scaleFactor=1.2, minNeighbors=5)\n",
    "    \n",
    "    # plot the image and the bounding box of the face\n",
    "    for (x, y, w, h) in faces:\n",
    "        # detect the face region\n",
    "        face_detect = cv2.rectangle(imgtest, (x, y), (x+w, y+h), (255, 0, 255), 2)\n",
    "\n",
    "        # save the cropped image\n",
    "        cropped_image = img[y:y+h, x:x+w]\n",
    "        \n",
    "    return faces, face_detect, cropped_image"
   ]
  }
 ],
 "metadata": {
  "kernelspec": {
   "display_name": "Python 3",
   "language": "python",
   "name": "python3"
  },
  "language_info": {
   "codemirror_mode": {
    "name": "ipython",
    "version": 3
   },
   "file_extension": ".py",
   "mimetype": "text/x-python",
   "name": "python",
   "nbconvert_exporter": "python",
   "pygments_lexer": "ipython3",
   "version": "3.7.1"
  }
 },
 "nbformat": 4,
 "nbformat_minor": 2
}
