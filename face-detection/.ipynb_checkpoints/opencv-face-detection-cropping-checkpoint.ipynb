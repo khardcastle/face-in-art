{
 "cells": [
  {
   "cell_type": "code",
   "execution_count": 1,
   "metadata": {},
   "outputs": [],
   "source": [
    "# import modules needed\n",
    "# also - before this is done - need to make sure that opencv is installed\n",
    "import cv2\n",
    "import numpy as np\n",
    "from matplotlib import pyplot as plt\n",
    "import glob"
   ]
  },
  {
   "cell_type": "code",
   "execution_count": 2,
   "metadata": {},
   "outputs": [],
   "source": [
    "def compute_face_crop(image_file):\n",
    "    \n",
    "    # This will take an image file, and will return informatin about where the face is, the image with the face bounding box, and the cropped image\n",
    "    \n",
    "    # read image, copy it so nothing funky happens, convert to grayscale for opencv\n",
    "    img = cv2.imread(image_file,cv2.IMREAD_COLOR)\n",
    "    imgtest1 = img.copy()\n",
    "    imgtest = cv2.cvtColor(imgtest1, cv2.COLOR_BGR2GRAY)\n",
    "\n",
    "    # load the face classifier\n",
    "    facecascade = cv2.CascadeClassifier(cv2.data.haarcascades + \"haarcascade_frontalface_default.xml\")\n",
    "    \n",
    "    # run the face classifier for the image. returns bounding box of the face\n",
    "    faces = facecascade.detectMultiScale(imgtest, scaleFactor=1.2, minNeighbors=5)\n",
    "    \n",
    "    # plot the image and the bounding box of the face\n",
    "    for (x, y, w, h) in faces:\n",
    "        # detect the face region\n",
    "        face_detect = cv2.rectangle(imgtest, (x, y), (x+w, y+h), (255, 0, 255), 2)\n",
    "\n",
    "        # save the cropped image\n",
    "        cropped_image = img[y:y+h, x:x+w]\n",
    "        \n",
    "    return faces, face_detect, cropped_image\n",
    "        \n",
    "        "
   ]
  },
  {
   "cell_type": "code",
   "execution_count": 7,
   "metadata": {},
   "outputs": [
    {
     "name": "stdout",
     "output_type": "stream",
     "text": [
      "[]\n"
     ]
    }
   ],
   "source": [
    "# for each jpg image in a directory, collect file name in list\n",
    "txtfiles = [] \n",
    "for file in glob.glob(\"⁩*.jpg\"):\n",
    "    txtfiles.append(file)\n",
    "print(txtfiles)"
   ]
  },
  {
   "cell_type": "code",
   "execution_count": 6,
   "metadata": {},
   "outputs": [
    {
     "ename": "AttributeError",
     "evalue": "'NoneType' object has no attribute 'copy'",
     "output_type": "error",
     "traceback": [
      "\u001b[0;31m---------------------------------------------------------------------------\u001b[0m",
      "\u001b[0;31mAttributeError\u001b[0m                            Traceback (most recent call last)",
      "\u001b[0;32m<ipython-input-6-1f3b62823360>\u001b[0m in \u001b[0;36m<module>\u001b[0;34m\u001b[0m\n\u001b[1;32m      1\u001b[0m \u001b[0mtxtfiles\u001b[0m \u001b[0;34m=\u001b[0m \u001b[0;34m'mona_lisa.jpg'\u001b[0m\u001b[0;34m\u001b[0m\u001b[0;34m\u001b[0m\u001b[0m\n\u001b[1;32m      2\u001b[0m \u001b[0;32mfor\u001b[0m \u001b[0mimage_file\u001b[0m \u001b[0;32min\u001b[0m \u001b[0mtxtfiles\u001b[0m\u001b[0;34m:\u001b[0m\u001b[0;34m\u001b[0m\u001b[0;34m\u001b[0m\u001b[0m\n\u001b[0;32m----> 3\u001b[0;31m     \u001b[0mfaces\u001b[0m\u001b[0;34m,\u001b[0m \u001b[0mface_detect\u001b[0m\u001b[0;34m,\u001b[0m \u001b[0mcropped_image\u001b[0m \u001b[0;34m=\u001b[0m \u001b[0mcompute_face_crop\u001b[0m\u001b[0;34m(\u001b[0m\u001b[0mimage_file\u001b[0m\u001b[0;34m)\u001b[0m\u001b[0;34m\u001b[0m\u001b[0;34m\u001b[0m\u001b[0m\n\u001b[0m\u001b[1;32m      4\u001b[0m \u001b[0;34m\u001b[0m\u001b[0m\n\u001b[1;32m      5\u001b[0m     \u001b[0;31m# plot the face with box around it, and the cropped image\u001b[0m\u001b[0;34m\u001b[0m\u001b[0;34m\u001b[0m\u001b[0;34m\u001b[0m\u001b[0m\n",
      "\u001b[0;32m<ipython-input-2-cb8cdae08692>\u001b[0m in \u001b[0;36mcompute_face_crop\u001b[0;34m(image_file)\u001b[0m\n\u001b[1;32m      5\u001b[0m     \u001b[0;31m# read image, copy it so nothing funky happens, convert to grayscale for opencv\u001b[0m\u001b[0;34m\u001b[0m\u001b[0;34m\u001b[0m\u001b[0;34m\u001b[0m\u001b[0m\n\u001b[1;32m      6\u001b[0m     \u001b[0mimg\u001b[0m \u001b[0;34m=\u001b[0m \u001b[0mcv2\u001b[0m\u001b[0;34m.\u001b[0m\u001b[0mimread\u001b[0m\u001b[0;34m(\u001b[0m\u001b[0mimage_file\u001b[0m\u001b[0;34m,\u001b[0m\u001b[0mcv2\u001b[0m\u001b[0;34m.\u001b[0m\u001b[0mIMREAD_COLOR\u001b[0m\u001b[0;34m)\u001b[0m\u001b[0;34m\u001b[0m\u001b[0;34m\u001b[0m\u001b[0m\n\u001b[0;32m----> 7\u001b[0;31m     \u001b[0mimgtest1\u001b[0m \u001b[0;34m=\u001b[0m \u001b[0mimg\u001b[0m\u001b[0;34m.\u001b[0m\u001b[0mcopy\u001b[0m\u001b[0;34m(\u001b[0m\u001b[0;34m)\u001b[0m\u001b[0;34m\u001b[0m\u001b[0;34m\u001b[0m\u001b[0m\n\u001b[0m\u001b[1;32m      8\u001b[0m     \u001b[0mimgtest\u001b[0m \u001b[0;34m=\u001b[0m \u001b[0mcv2\u001b[0m\u001b[0;34m.\u001b[0m\u001b[0mcvtColor\u001b[0m\u001b[0;34m(\u001b[0m\u001b[0mimgtest1\u001b[0m\u001b[0;34m,\u001b[0m \u001b[0mcv2\u001b[0m\u001b[0;34m.\u001b[0m\u001b[0mCOLOR_BGR2GRAY\u001b[0m\u001b[0;34m)\u001b[0m\u001b[0;34m\u001b[0m\u001b[0;34m\u001b[0m\u001b[0m\n\u001b[1;32m      9\u001b[0m \u001b[0;34m\u001b[0m\u001b[0m\n",
      "\u001b[0;31mAttributeError\u001b[0m: 'NoneType' object has no attribute 'copy'"
     ]
    }
   ],
   "source": [
    "for image_file in txtfiles:\n",
    "    \n",
    "    # run the face-cropping algorithm\n",
    "    faces, face_detect, cropped_image = compute_face_crop(image_file)\n",
    "    \n",
    "    # plot the face with box around it, and the cropped image\n",
    "    plt.figure()\n",
    "    plt.imshow(face_detect)\n",
    "    plt.figure()\n",
    "    plt.imshow(cropped_image)\n",
    "    \n",
    "    # save the images\n",
    "    face_box = image_file + '_box.jpg'\n",
    "    face_box = '/'\n",
    "    cv2.imwrite(face_box,face_detect)\n",
    "    \n",
    "    cropped_image = image_file + '_cropped.jpg'\n",
    "    cv2.imwrite(face_box,cropped_image)\n",
    "    "
   ]
  },
  {
   "cell_type": "code",
   "execution_count": null,
   "metadata": {},
   "outputs": [],
   "source": []
  }
 ],
 "metadata": {
  "kernelspec": {
   "display_name": "Python 3",
   "language": "python",
   "name": "python3"
  },
  "language_info": {
   "codemirror_mode": {
    "name": "ipython",
    "version": 3
   },
   "file_extension": ".py",
   "mimetype": "text/x-python",
   "name": "python",
   "nbconvert_exporter": "python",
   "pygments_lexer": "ipython3",
   "version": "3.7.1"
  }
 },
 "nbformat": 4,
 "nbformat_minor": 2
}
